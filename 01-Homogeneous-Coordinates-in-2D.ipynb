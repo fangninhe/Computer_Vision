{
 "cells": [
  {
   "cell_type": "code",
   "execution_count": 2,
   "metadata": {
    "collapsed": true
   },
   "outputs": [],
   "source": [
    "import numpy as np\n",
    "import matplotlib.pyplot as plt"
   ]
  },
  {
   "cell_type": "markdown",
   "metadata": {},
   "source": [
    "# Homogeneous Coordinates in 2D\n",
    "In this notebook, we introduce the representation of points, lines, and conics with houmogeneous notations in 2D space.  In mathematics, homogeneous coordinates or projective coordinates are a system of coordinates used in projective geometry, as Cartesian coordinates are used in Euclidean geometry. Homogeneous coordinates based representation for geometric entities lead to compact formulas (and easy to program) for many useful operations on these geometry entities."
   ]
  },
  {
   "cell_type": "markdown",
   "metadata": {},
   "source": [
    "## Homogeneous Representation of Lines and Points\n",
    "In the 2D space of reals ($i.e.,\\ {\\rm I\\!R}^2$), a line in the plane can be represented by an equation such as $ax+by+c=0$, in which different coefficients $a$, $b$, and $c$ give rise to different lines. Intuitively, such a line equation lead to a vector representation as $(a, b, c)^T$. However, the relationship between lines and vectors $(a, b, c)^T$ is not a one-to-one correspondence, since the lines $ax+by+c=0$ and $(ka)x+(kb)y+(kc)=0$ are always the same, for any non-zero $k$. In fact, two such vectors related by an overall scaling are considered as being equivalent. An equivalent class of vectors under this equivalence relationship is known as a homogeneous vector. Any particular vector $(a, b, c)^T$ is a representative of the equivalence class for a line $\\textbf{l}$.\n",
    "$$\\textbf{l}=\\begin{bmatrix}a \\\\ b \\\\ c\\end{bmatrix}$$\n",
    "A point $x=(x, y)$ lies on the line $\\textbf{l}=(a, b, c)^T$ if and only if $ax+by+c=0$. Given the representation of a 2D point $(x, y)$ by adding a final coordinate of 1 (i.e., a 3-by-1 vector $\\textbf{x}=(x, y, 1)^T$), the line function can be re-written as a dot product of two vectors:\n",
    "$$ax+by+c=\\textbf{l}^T\\textbf{x}=\\begin{bmatrix}a & b & c\\end{bmatrix}\\begin{bmatrix}x \\\\ y \\\\ 1\\end{bmatrix}$$\n",
    "In this regard, we can state that $\\textbf{x}=(x, y, 1)^T$ is the homogeneous coordinates of the point $(x, y)$ in ${\\rm I\\!R}^2$. Exploring the 3D representational space ${\\rm I\\!R}^3$, we note that all the points $k(x, y, 1)^T$ with $k\\neq{0}$ form an equivalent class that represents the same physical point $(x, y)$ in ${\\rm I\\!R}^2$ space. Therefore, an arbitrary homogeneous vector representation of a point with the form $\\textbf{x}=(x_1, x_2, x_3)^T$ represents the point $(x_1/x_3, x_2/x_3)^T$ in ${\\rm I\\!R}^2$."
   ]
  },
  {
   "cell_type": "markdown",
   "metadata": {},
   "source": [
    "### Some Cool Properties"
   ]
  },
  {
   "cell_type": "markdown",
   "metadata": {},
   "source": [
    "* **Property 1:** Obviously, the algebraic equation of a line $ax+by+c=0$ can be expressed as: $\\textbf{l}^T\\textbf{x}=0 \\ \\ \\ or \\ \\ \\ \\textbf{x}^T\\textbf{l}=0$.\n",
    "<br />\n",
    "<br />\n",
    "* **Property 2.1: **Given any two lines $l_1=\\begin{bmatrix}a_1 \\\\ b_1 \\\\ c_1\\end{bmatrix}$ and $l_2=\\begin{bmatrix}a_2 \\\\ b_2 \\\\ c_2\\end{bmatrix}$, the intersection point of the two lines is given by the cross product of the two vectors as: $$\\textbf{x}=l_1\\times{l_2}$$\n",
    "**Property 2.2:** Given any two points $x_1=\\begin{bmatrix}x_1 \\\\ y_1 \\\\ 1\\end{bmatrix}$ and $x_2=\\begin{bmatrix}x_2 \\\\ y_2 \\\\ 1\\end{bmatrix}$, the line that passes through the two points is given by the cross product of the two vectors as: $$\\textbf{l}=x_1\\times{x_2}$$\n",
    "<br />\n",
    "The two assertions can be easily verified by the triple scalar product identiy: $\\vec{A}\\cdot{(\\vec{A}\\times\\vec{B})}\\equiv\\vec{B}\\cdot{(\\vec{B}\\times\\vec{A})}\\equiv0$.  \n",
    "The first assertion follows from the fact that the intersection point must be on both $l_1$ and $l_2$, which indicates that $l_1^Tx=0$ and $l_2^Tx=0$. Meanwhile, since $\\vec{l_1}\\cdot{(\\vec{l_1}\\times\\vec{l_2})}\\equiv\\vec{l_2}\\cdot{(\\vec{l_1}\\times\\vec{l_2})}\\equiv0$, we can conclude that $x=l_1\\times{l_2}$.  \n",
    "The second assertion follows from the fact that both points $x_1$ and $x_2$ must be on $l$, which indicates that $x_1^Tl=0$ and $x_2^Tl=0$. Similar to the proof of the first assertion, we can derive $l=x_1\\times{x_2}$.  "
   ]
  },
  {
   "cell_type": "markdown",
   "metadata": {},
   "source": [
    "**Example 1**: Given two points $(1, 1)$ and $(2, 2)$, calculate the line passes through the two points using homogeneous representation.  \n",
    "As we know, the line passing through the two points is given by the function $-x + y = 0$. Therefore, the homogeneous representation of the line should be $(-1, 1, 0)^T$."
   ]
  },
  {
   "cell_type": "code",
   "execution_count": 12,
   "metadata": {},
   "outputs": [
    {
     "name": "stdout",
     "output_type": "stream",
     "text": [
      "l =  [-1  1  0]\n"
     ]
    }
   ],
   "source": [
    "x1 = np.array([1,1,1])\n",
    "x2 = np.array([2,2,1])\n",
    "l = np.cross(x1, x2)\n",
    "print('l = ', l)"
   ]
  },
  {
   "cell_type": "markdown",
   "metadata": {},
   "source": [
    "**Example 2**: Given two lines $y = x$ and $y = -x + 2$, calculate the intersection point of the two lines.  \n",
    "It is easy to calculate the intersection point is at 2D point $(1, 1)$, and the homogeneous representation of the point should be $(1, 1, 1)^T$."
   ]
  },
  {
   "cell_type": "code",
   "execution_count": 13,
   "metadata": {},
   "outputs": [
    {
     "name": "stdout",
     "output_type": "stream",
     "text": [
      "x =  [-2 -2 -2]\n",
      "x =  [1. 1. 1.]\n"
     ]
    }
   ],
   "source": [
    "l1 = np.array([-1, 1, 0])\n",
    "l2 = np.array([1, 1, -2])\n",
    "x = np.cross(l1, l2)\n",
    "print('x = ', x)\n",
    "# Convert the last coordinate to 1\n",
    "x = x/x[2]\n",
    "print('x = ', x)"
   ]
  },
  {
   "cell_type": "markdown",
   "metadata": {},
   "source": [
    "**Example 3**: The first line $l_1$ passes through two points $(0,1)$ and (1,2). The second line $l_2$ passes through two points $(4,0)$ and (5,3). Find the intersection point of $l_1$ and $l_2$."
   ]
  },
  {
   "cell_type": "code",
   "execution_count": 14,
   "metadata": {},
   "outputs": [
    {
     "name": "stdout",
     "output_type": "stream",
     "text": [
      "l1 =  [-1  1 -1]\n",
      "l2 =  [-3  1 12]\n",
      "x =  [13 15  2]\n",
      "x =  [6.5 7.5 1. ]\n"
     ]
    }
   ],
   "source": [
    "# Compute l1\n",
    "x1 = np.array([0, 1, 1])\n",
    "x2 = np.array([1, 2, 1])\n",
    "l1 = np.cross(x1, x2)\n",
    "print('l1 = ', l1)\n",
    "# Compute l2\n",
    "x3 = np.array([4, 0, 1])\n",
    "x4 = np.array([5, 3, 1])\n",
    "l2 = np.cross(x3, x4)\n",
    "print('l2 = ', l2)\n",
    "# Compute intersection of l1 and l2\n",
    "x = np.cross(l1, l2)\n",
    "print('x = ', x)\n",
    "x = x/x[2]\n",
    "print('x = ', x)"
   ]
  },
  {
   "cell_type": "markdown",
   "metadata": {},
   "source": [
    "We can verify the result by plotting the two lines and the intersection point."
   ]
  },
  {
   "cell_type": "code",
   "execution_count": 38,
   "metadata": {},
   "outputs": [
    {
     "data": {
      "image/png": "[encoded data removed]",
      "text/plain": [
       "<matplotlib.figure.Figure at 0x10d42ab70>"
      ]
     },
     "metadata": {},
     "output_type": "display_data"
    }
   ],
   "source": [
    "# Show the two lines\n",
    "plt.figure(0)\n",
    "# l1\n",
    "k1 = (2-1)/(1-0)\n",
    "d1 = 1\n",
    "plt.plot([0, 10],[1, k1*10+d1], color='red')\n",
    "plt.plot(0, 1, marker='o', color='red')\n",
    "plt.plot(1, 2, marker='o', color='red')\n",
    "# l2\n",
    "k2 = (3-0)/(5-4)\n",
    "d2 = -12\n",
    "plt.plot([4, 8],[0, k2*8+d2], color='blue')\n",
    "plt.plot(4, 0, marker='o', color='blue')\n",
    "plt.plot(5, 3, marker='o', color='blue')\n",
    "# plot the intersection point at (6.5, 7.5)\n",
    "plt.plot(6.5, 7.5, marker='*', markersize=10, color='black')\n",
    "\n",
    "plt.xlim(0, 10)\n",
    "plt.ylim(0, 10)\n",
    "plt.grid(color='black', linestyle='--', linewidth=1)\n",
    "plt.show()"
   ]
  },
  {
   "cell_type": "markdown",
   "metadata": {},
   "source": [
    "* **Property 3:** The intersection point of two parallel lines is at infinity in ${\\rm I\\!R}^2$ with the homogeneous representation $(u,v,0)$.  \n",
    "<br />\n",
    "Since the slope of line $ax+by+c=0$ is always defined by the ratio $-a/b \\ (b \\neq 0)$ or the two parameters $a$ and $b$, the two lines $ax+by+c_1=0$ and $ax+by+c_2=0$ must be parallel. Given the homogeneous representations of the two lines, which are $l_1=\\begin{bmatrix}a \\\\ b \\\\ c_1\\end{bmatrix}$ and $l_2=\\begin{bmatrix}a \\\\ b \\\\ c_2\\end{bmatrix}$, respectively, one can easily derive the intersection as $l_1\\times{l_2}=(c_2-c_1)(b,-a,0)^T$. Ignoring the scale factor $(c_2-c_1)$, the homogeneous representation of the intersection point is $(b,-a,0)^T$. If we attempt to get the inhomogeneous coordinates, we obtain $(b/0,a/0)$, which implies the point of intersection has infinitely large coordinates. To have a better understanding of this intersection point, we can describe it as a point at infinity in ${\\rm I\\!R}^2$, along a specific direction controlled by the pair $(a,b)$.  \n",
    "Actually, the physical points in ${\\rm I\\!R}^2$, of which the homogeneous coordinates are in the form of $(u,v,0)^T$, are known as **Ideal Points**. "
   ]
  },
  {
   "cell_type": "markdown",
   "metadata": {},
   "source": [
    "**Example 4**: Given two parallel lines $x+y=1$ and $x+y+1=0$, calculate the intersection point \"at infinity\".  \n",
    "The homogeneous representations of the two lines are $(1,1,0)^T$, and $(1,1,1)^T$, respectively. The intersection point is $(1, -1, 0)^T$."
   ]
  },
  {
   "cell_type": "code",
   "execution_count": 8,
   "metadata": {},
   "outputs": [
    {
     "name": "stdout",
     "output_type": "stream",
     "text": [
      "intesection point = [ 1 -1  0]\n"
     ]
    }
   ],
   "source": [
    "l1 = np.array([1,1,0])\n",
    "l2 = np.array([1,1,1])\n",
    "x = np.cross(l1, l2)\n",
    "print(\"intesection point =\", x)"
   ]
  },
  {
   "cell_type": "markdown",
   "metadata": {},
   "source": [
    "* **Property 4:** The set of all ideal points $(u,v,0)^T$ lies on a single line - the line at infinity - with the homogeneous representation as $l_{\\infty}=(0,0,1)^T$.  \n",
    "<br />\n",
    "To prove this, let's consider any two ideal points in ${\\rm I\\!R}^2$: $x_1=(u_1,v_1,0)^T$ and $x_2=(u_2,v_2,0)$. Then, the line that passes through the two points is $l=x_1\\times{x_2}=({u_1}{v_2}-{u_2}{v_1})\\begin{bmatrix}0 \\\\ 0 \\\\ 1\\end{bmatrix}$. Ignoring the scale factor $({u_1}{v_2}-{u_2}{v_1})$, we get the homogeneous coordinates for the line at infinity as $(0,0,1)^T$. It is worth noting that the $l_{\\infty}$ line plays an important role in 3D computer vision. The camera image of the $l_{\\infty}$ line is called the **Vanishing Line**."
   ]
  },
  {
   "cell_type": "markdown",
   "metadata": {},
   "source": [
    "**Example 5**: Given two ideal points $(1,0,0)$ and $(0,1,0)$, find the line passing through the two points.  \n",
    "Note: The cross product of $(1,0,0)$ and $(0,1,0)$ is $(0,0,1)$"
   ]
  },
  {
   "cell_type": "code",
   "execution_count": 7,
   "metadata": {},
   "outputs": [
    {
     "name": "stdout",
     "output_type": "stream",
     "text": [
      "line at infinity = [0 0 1]\n"
     ]
    }
   ],
   "source": [
    "x1 = np.array([1,0,0])\n",
    "x2 = np.array([0,1,0])\n",
    "l = np.cross(x1, x2)\n",
    "print(\"line at infinity =\", l)"
   ]
  },
  {
   "cell_type": "markdown",
   "metadata": {},
   "source": [
    "* **Property 5:** Parallel lines intersect $l_{\\infty}$ at the same point.  \n",
    "<br />\n",
    "Given two parallel lines $l_1=(a,b,c_1)^T$ and $l_2=(a,b,c_2)$, we find that the intersection point between the two lines and $l_{\\infty}$ is at an ideal point: $l_1\\times{l_{\\infty}}=l_2\\times{l_{\\infty}}=(b,-a,0)^T$. In inhomogeneous coordinates, the vector $(b,-a)$ describes the line's direction, which is orthogonal to the line's normal $(a,b)$. Since we have proved that all parallel lines with the same line's direction intersect $l_{\\infty}$ at the same point, the line at infinity can be thought of as the set of directions of lines in the 2D plane."
   ]
  },
  {
   "cell_type": "markdown",
   "metadata": {},
   "source": [
    "**Example 6:** Given two parallel lines in homogeneous coordinates: $l_1=(1, -1, 1)$ and $l_2=(1,-1,-1)$, find the intersection points of the two lines with the line at infinity: $l_{\\infty}=(0,0,1)$.  \n",
    "Note: According **Property 5**, the point of intersection between the two lines and the line at infinity should be at $(b,-a,0)=(-1,-1,0)$."
   ]
  },
  {
   "cell_type": "code",
   "execution_count": 12,
   "metadata": {},
   "outputs": [
    {
     "name": "stdout",
     "output_type": "stream",
     "text": [
      "1st intersection point = [-1 -1  0]\n",
      "2nd intersection point = [-1 -1  0]\n"
     ]
    }
   ],
   "source": [
    "l1 = np.array([1,-1,1])\n",
    "l2 = np.array([1,-1,-1])\n",
    "l = np.array([0,0,1])\n",
    "# Intersection point between l1 and line at infinity\n",
    "x1 = np.cross(l1, l)\n",
    "print(\"1st intersection point =\", x1)\n",
    "# Intersection point between l2 and line at infinity\n",
    "x2 = np.cross(l2, l)\n",
    "print(\"2nd intersection point =\", x2)"
   ]
  },
  {
   "cell_type": "markdown",
   "metadata": {},
   "source": [
    "* ** Duality Principle:**  \n",
    "<br />\n",
    "One may have noted that the role of points and lines are interchnagable in the aforementioned statements concerning the properties of lines and points. For example, the two equations $l^Tx=0$ and $x^Tl=0$ show that the positions of line and point can be swapped in the line equation. Similary, with swapping the roles of points and lines, one can observe that the equations for computing the intersection of two lines (Property 2.1) and the line passing through the two points (Property 2.2) are essentially the same. To be more general, the duality principle can be summarized as follows:  \n",
    "<br />\n",
    "_To any theorem of 2-dimensional projective geometry there corresponds a dual theorem, which may be derived by interchanging the roles of points and lines in the original theorem._\n"
   ]
  },
  {
   "cell_type": "markdown",
   "metadata": {},
   "source": [
    "## Homogeneous Representation of Conics\n",
    "There is one more 2D geometric entity that will be important to us in camera modeling and calibration: **Conics**.  \n",
    "A conic is a curve described by a second-order equation in a plane. In Euclidean geometry, there are main types of conics: hyperbola, ellipse, and parabola (circle is a special case of ellipse).  \n",
    "Note: All these 2D conics can be obtained when slicing a double cone with a plane. A double cone consists of two cones that are vertically aligned and that make a one-point contact at their vertices. When the slicing plane cuts through only one of the cones, we get either a circle, or an ellipse, or a parabola. When the plane slices through both cones, we get a hyperbola.  \n",
    "<img src=\"./Images/CH01_Double_Cone.gif\">\n",
    "<br />\n",
    "The equation of a conic in inhomogeneous coordinates is:  \n",
    "<br />\n",
    "$$ax^2+bxy+cy^2+dx+ey+f=0$$  \n",
    "To express this equation in homogeneous coordinates, we can first express the point $(x,y)$ as a 3-by-1 $(x_1,x_2,x_3)^T$ using homogeneous representation. Then, given that $x=x_1/x_3$ and $y=y_1/y_3$, we can derive the homogeneous conic equation as:  \n",
    "<br />\n",
    "$$ax_1^2+bx_{1}x_{2}+cx_2^2+dx_{1}x_{3}+ex_{2}x_{3}+fx_3^2=0$$\n",
    "<br />"
   ]
  },
  {
   "cell_type": "markdown",
   "metadata": {},
   "source": [
    "The homogeneous conic equation can be rewritten in a matrix form:\n",
    "<br />\n",
    "$$\\textbf{x}^{T}C\\textbf{x}=\\begin{bmatrix}x_1 & x_2 & x_3\\end{bmatrix}\\begin{bmatrix} \n",
    "a & b/2 & d/2 \\\\\n",
    "b/2 & c & e/2 \\\\\n",
    "d/2 & e/2 &f\n",
    "\\end{bmatrix}\\begin{bmatrix}x_1 \\\\ x_2 \\\\ x_3\\end{bmatrix}=0$$\n",
    "<br />\n",
    "Where, $\\textbf{x}=\\begin{bmatrix}x_1 \\\\ x_2 \\\\ x_3\\end{bmatrix}$, and $C=\\begin{bmatrix} \n",
    "a & b/2 & d/2 \\\\\n",
    "b/2 & c & e/2 \\\\\n",
    "d/2 & e/2 &f\n",
    "\\end{bmatrix}$.  "
   ]
  },
  {
   "cell_type": "markdown",
   "metadata": {},
   "source": [
    "### Closed-form Solution for Conics\n",
    "It is worth noting that similar to the homogeneous representation of points and lines, multiplying the conic coefficient matrix $C$ by any non-zero scalar does not change the conic equation. Therefore, one can conclude that a conic defined by the six unknowns (i.e., $a$ to $f$) only has five degrees of freedom as all these parameters can be determined an arbitrary scale. In addition, since any point on the conic leads to one equation $\\textbf{x}^{T}C\\textbf{x}=0$, a minimum number of five points is required for deriving an estimate of the conic coefficient matrix $C$. The closed-form solutions for conics while using five or more points can be derived as follows:\n",
    "\n",
    "1. Since any point $\\textbf{x}=(x_i,y_i)$ (i.e., homogeneous coordinates $(x_i,y_i,1)$) on the conic leads to one linear equation as:  \n",
    "<br />\n",
    "$$ax_i^2+bx_iy_i+cy_i^2+dx_i+ey_i+f=0 \\; \\Rightarrow \\; \\begin{bmatrix}x_i^2 & x_iy_i & y_i^2 & x_i & y_i & 1\\end{bmatrix}\n",
    "\\begin{bmatrix}a \\\\ b \\\\ c \\\\ d \\\\ e \\\\ f\\end{bmatrix}=0$$\n",
    "<br />\n",
    "Given five points, five linear equations can be established using the matrix form as:\n",
    "<br />\n",
    "$$\\begin{bmatrix}\n",
    "x_1^2 & x_1y_1 & y_1^2 & x_1 & y_1 & 1 \\\\\n",
    "x_2^2 & x_2y_2 & y_2^2 & x_2 & y_2 & 1 \\\\\n",
    "x_3^2 & x_3y_3 & y_3^2 & x_3 & y_3 & 1 \\\\\n",
    "x_4^2 & x_4y_4 & y_4^2 & x_4 & y_4 & 1 \\\\\n",
    "x_5^2 & x_5y_5 & y_5^2 & x_5 & y_5 & 1 \\\\\n",
    "\\end{bmatrix}\n",
    "\\begin{bmatrix}a \\\\ b \\\\ c \\\\ d \\\\ e \\\\ f\\end{bmatrix}=A_{5\\times{6}}c_{6\\times{1}}=0\n",
    "$$\n",
    "<br />\n",
    "It is worth noting that since the $A_{5\\times{6}}$ matrix only has a rank of five, the vector $c_{6\\times{1}}$ has a unique solution, which corresponds to the right null vector of the matrix $A_{5\\times{6}}$.  \n",
    "<br />\n",
    "2. If we get an overdetermined system of equations with $n$ (n > 5) points, strictly speaking, there exists no unique solution at all. However, there is one specific case we are interested in. In this case, we aim at finding a solution of $c_{6\\times{1}}$, which minimizes $\\left\\lVert{Ac}\\right\\rVert^2=(Ac)^T(Ac)$ (i.e., Least Squares). In addition, since $c_{6\\times{1}}$ can be determined up to an arbitrary scale, we would also assume that $\\left\\lVert{c}\\right\\rVert=1$. In practice, A specific Least-Squares solution can be found for the vector $c_{6\\times{1}}$. The Least-Squares solution is the eigenvector corresponding to the smallest eigenvalue of the 6-by-6 matrix $A_{n\\times{6}}^TA_{n\\times{6}}$. The derivation of this solution will be given in the future review of Least-Squares method.  \n",
    "<br />\n",
    "3. If the rank of the matrix $A$ is less than 5 (i.e., the number of points is less than 5), there exist infinitely many solutions for the vector $c_{6\\times{1}}$. However, we do **NOT** want any of them. In this case, we have an underdetermined system of equations.\n"
   ]
  },
  {
   "cell_type": "markdown",
   "metadata": {},
   "source": [
    "### Tagent Line to Conics\n",
    "The line $l$ tangent to a conic $C$ at a point $x$ has a particular form in homogeneous representation as:  \n",
    "<br />\n",
    "$$l=Cx$$\n",
    "<br />\n",
    "The proof is straightforward. Since $x^TCx=x^T(Cx)=x^Tl=0$, we can show that the line $l$ is passing through the point $x$ on the conic. Then, in order to prove that $l$ is a tagent line of the conic, we only need to demonstrate that $l$ has and only has one-point contact with the conic. Suppose that $l$ is passing through another point $y$ on the conic (i.e., there are two intersection points $x$ and $y$ between the line $l$ and the conic $C$), we get two additional equations as: $y^TCy=0$ and $y^Tl = y^TCx=0$, which consequently lead to the third equation $(x+\\alpha{y})^TC(x+\\alpha{y})=0$ ($\\alpha\\in{I\\!R}$). The derivation of $(x+\\alpha{y})^TC(x+\\alpha{y})=0$ is trival as $(x+\\alpha{y})^TC(x+\\alpha{y})= x^TCx + 2\\alpha{y^TCx}+\\alpha^2{y^TCy}=0$. Moreover, since any arbitrary point on the line $l$ can be expressed as a summation of $x+\\alpha{y}$, where $\\alpha\\in{I\\!R}$, the equation $(x+\\alpha{y})^TC(x+\\alpha{y})=0$ indicates that all points lying on line $l$ are also on the conic $C$. However, this is impossible. Therefore, we can claim that the line $l$ only meets the conic $C$ at a single point (i.e., $l$ is tangent to $C$) while the assumption of having two intersection points is invalid."
   ]
  },
  {
   "cell_type": "markdown",
   "metadata": {},
   "source": [
    "### Degenerate Conic\n",
    "We will now consider a special type of conics: **Degenerate Conic**. As described above, a conic can be described by slicing a double cone with a plane. A degenerate conic is generated when a plane intersects the vertex of the double cone. To be more specific, If the plane intersects the double cone at the vertex, then the circle/ellipse become point, parabola becomes line, and hyperbola degenerates to two intersecting lines.\n",
    "<img src=\"./Images/CH01_Degenerate_Conic.png\">\n",
    "<br />\n",
    "In the real plane, a degenerate conic can be two lines that may or may not be parallel, a single line (either two coinciding lines or the union of a line and the line at infinity), a single point (in fact, two complex conjugate lines). Therefore, we can say that two (either real or complex) lines constitute a degenerate conic. Let $l$ and $m$ be the homogeneous representations of two lines. Then, the equation for the degenerated conic, which can be considered as a collection of all points on lines $l$ and $m$, can be given in homogeneous coordnates as:  \n",
    "<br />\n",
    "$$C=lm^T+ml^T$$\n",
    "<br />\n",
    "It is worth noting that such a degenerate conic $C$ satisfies the conic equation $x^TCx=x^T(lm^T+ml^T)x=(x^Tl)(m^Tx)+(x^Tm)(l^Tx)=0$ for any points $x$ that are on the line $l$ or $m$ since $l^Tx=0$ or $m^Tx=0$."
   ]
  },
  {
   "cell_type": "code",
   "execution_count": null,
   "metadata": {},
   "outputs": [],
   "source": []
  }
 ],
 "metadata": {
  "kernelspec": {
   "display_name": "Python 3",
   "language": "python",
   "name": "python3"
  },
  "language_info": {
   "codemirror_mode": {
    "name": "ipython",
    "version": 3
   },
   "file_extension": ".py",
   "mimetype": "text/x-python",
   "name": "python",
   "nbconvert_exporter": "python",
   "pygments_lexer": "ipython3",
   "version": "3.6.3"
  }
 },
 "nbformat": 4,
 "nbformat_minor": 2
}
